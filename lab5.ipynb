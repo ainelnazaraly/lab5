{
 "cells": [
  {
   "cell_type": "code",
   "execution_count": null,
   "id": "fc55048f",
   "metadata": {},
   "outputs": [],
   "source": [
    "import re \n",
    "#Write a Python program that matches a string that has an 'a' followed by zero or more 'b''s.\n",
    "zero=re.compile(r'a*b')\n",
    "x=zero.search(\"ainelaba\")\n",
    "print(x)"
   ]
  },
  {
   "cell_type": "code",
   "execution_count": null,
   "id": "ff0966b9",
   "metadata": {},
   "outputs": [],
   "source": [
    "#Write a Python program that matches a string that has an 'a' followed by two to three 'b'.\n",
    "import re\n",
    "x=re.search(r\"ab{2,3}\", \"aaaabbba\")\n",
    "print(x)"
   ]
  },
  {
   "cell_type": "code",
   "execution_count": null,
   "id": "19cf8378",
   "metadata": {},
   "outputs": [],
   "source": [
    "import re \n",
    "#Write a Python program to find sequences of lowercase letters joined with a underscore.\n",
    "x=re.search(r\"[a-z]+\\_\", \"AAABBAjaa__\")\n",
    "print(x)"
   ]
  },
  {
   "cell_type": "code",
   "execution_count": null,
   "id": "bf88be48",
   "metadata": {},
   "outputs": [],
   "source": [
    "import re\n",
    "#Write a Python program to find the sequences of one upper case letter followed by lower case letters.\n",
    "x=re.search(r\"[A-Z]{1}[a-z]+\", \"AinEL\")\n",
    "print(x)"
   ]
  },
  {
   "cell_type": "code",
   "execution_count": null,
   "id": "c351b54b",
   "metadata": {},
   "outputs": [],
   "source": [
    "import re\n",
    "#Write a Python program that matches a string that has an 'a' followed by anything, ending in 'b'.\n",
    "z=re.findall(r\"a.+b\\Z\", \"aidoadoahb\")\n",
    "print(z)\n"
   ]
  },
  {
   "cell_type": "code",
   "execution_count": null,
   "id": "76083f7b",
   "metadata": {},
   "outputs": [],
   "source": [
    "import re\n",
    "#Write a Python program to replace all occurrences of space, comma, or dot with a colon.\n",
    "z=re.sub(r\"[ .,]\", \"|\", \"today, i ate breakfast\")\n",
    "print(z)"
   ]
  },
  {
   "cell_type": "code",
   "execution_count": null,
   "id": "538d6ac6",
   "metadata": {},
   "outputs": [],
   "source": [
    "import re \n",
    "#Write a python program to convert snake case string to camel case string.\n",
    "txt=\"my_snake\"\n",
    "cam=\"\"\n",
    "txt1=re.split(r\"\\_\", txt)\n",
    "for i in txt1: \n",
    "    cam+=i.capitalize()\n",
    "\n",
    "\n",
    "print(cam)"
   ]
  },
  {
   "cell_type": "code",
   "execution_count": null,
   "id": "52d1584a",
   "metadata": {},
   "outputs": [],
   "source": [
    "import re\n",
    "#Write a Python program to split a string at uppercase letters.\n",
    "x=re.compile(r\"[A-Z]\")\n",
    "z=re.split(x, \"todayYisSaAgreatTday\")\n",
    "for word in z:\n",
    "    print(word, end=\" \") "
   ]
  },
  {
   "cell_type": "code",
   "execution_count": null,
   "id": "2b2ffb16",
   "metadata": {},
   "outputs": [],
   "source": [
    "#Write a Python program to insert spaces between words starting with capital letters.\n",
    "import re \n",
    "patt=\"\"\n",
    "x=re.compile(r\"[A-Z][a-z]*\")\n",
    "z=x.findall(\"TodayIAteABreakfast\")\n",
    "for i, words in enumerate(z): \n",
    "    if i==0: \n",
    "        patt+=words\n",
    "    else: \n",
    "        patt+=\" \"+words\n",
    "\n",
    "print(patt)\n"
   ]
  },
  {
   "cell_type": "code",
   "execution_count": null,
   "id": "9596b13e",
   "metadata": {},
   "outputs": [],
   "source": [
    "#Write a Python program to convert a given camel case string to snake case.\n",
    "import re\n",
    "def cameltosnake(textcam): \n",
    "    x=re.compile(r\"[A-Z][a-z]+\")\n",
    "    y=x.findall(textcam)\n",
    "    snake=\" \"\n",
    "    for i, word in enumerate(y): \n",
    "        if i==0: \n",
    "            snake+=word.casefold()\n",
    "        else: \n",
    "            snake+=\"_\"+word.casefold()\n",
    "    print(snake)\n",
    "\n",
    "cameltosnake(\"MyCamel\")"
   ]
  }
 ],
 "metadata": {
  "kernelspec": {
   "display_name": "Python 3 (ipykernel)",
   "language": "python",
   "name": "python3"
  },
  "language_info": {
   "codemirror_mode": {
    "name": "ipython",
    "version": 3
   },
   "file_extension": ".py",
   "mimetype": "text/x-python",
   "name": "python",
   "nbconvert_exporter": "python",
   "pygments_lexer": "ipython3",
   "version": "3.9.13"
  }
 },
 "nbformat": 4,
 "nbformat_minor": 5
}
